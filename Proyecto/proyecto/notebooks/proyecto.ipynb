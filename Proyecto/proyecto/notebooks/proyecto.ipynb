{
 "cells": [
  {
   "cell_type": "code",
   "execution_count": 70,
   "metadata": {},
   "outputs": [],
   "source": [
    "import pandas as pd\n",
    "import matplotlib.pyplot as plt\n",
    "%matplotlib inline\n",
    "import pandas.io.sql as pd_sql\n",
    "import sqlite3 as sql\n",
    "import ipywidgets as widgets\n"
   ]
  },
  {
   "cell_type": "code",
   "execution_count": 71,
   "metadata": {},
   "outputs": [],
   "source": [
    "data = pd.read_csv('../data/datos_equipos.csv' , sep = '|')"
   ]
  },
  {
   "cell_type": "code",
   "execution_count": 52,
   "metadata": {},
   "outputs": [],
   "source": [
    "def convertidor(x):\n",
    "    if (x == \"NaN\" or x == \" \"):\n",
    "        x = 'No contiene'\n",
    "\n",
    "    return x"
   ]
  },
  {
   "cell_type": "code",
   "execution_count": 60,
   "metadata": {},
   "outputs": [],
   "source": [
    "for l in data.keys():\n",
    "    data[l] = data[l].apply(convertidor)"
   ]
  },
  {
   "cell_type": "code",
   "execution_count": 54,
   "metadata": {},
   "outputs": [
    {
     "name": "stderr",
     "output_type": "stream",
     "text": [
      "/home/carlos/Escritorio/2_Ciclo/Ob_Lim_Datos/Entornos-datos/env05/lib/python3.5/site-packages/pandas/core/generic.py:1534: UserWarning: The spaces in these column names will not be changed. In pandas versions < 0.14, spaces were converted to underscores.\n",
      "  chunksize=chunksize, dtype=dtype)\n"
     ]
    }
   ],
   "source": [
    "import sqlite3\n",
    "connection = sqlite3.connect(\"../data/equipos_ecuador.db\")\n",
    "connection.text_factory = str\n",
    "data.to_sql(name='equipos', con=connection, if_exists = 'append', index=False)"
   ]
  },
  {
   "cell_type": "code",
   "execution_count": 72,
   "metadata": {},
   "outputs": [],
   "source": [
    "lista = data['Equipo']"
   ]
  },
  {
   "cell_type": "code",
   "execution_count": 73,
   "metadata": {},
   "outputs": [
    {
     "data": {
      "application/vnd.jupyter.widget-view+json": {
       "model_id": "86dbc7f156bb451586757ca544e0640a",
       "version_major": 2,
       "version_minor": 0
      },
      "text/plain": [
       "Dropdown(description='Equipos', options=('CLUB SPORT EMELEC', 'CLUB DEPORTIVO EL NACIONAL', 'CLUB DEPORTIVO CU…"
      ]
     },
     "metadata": {},
     "output_type": "display_data"
    }
   ],
   "source": [
    "w = widgets.Dropdown(\n",
    "    options=lista,\n",
    "    value=lista[0],\n",
    "    description='Equipos',\n",
    "    disabled=False,\n",
    ")\n",
    "display(w)\n"
   ]
  },
  {
   "cell_type": "code",
   "execution_count": 75,
   "metadata": {},
   "outputs": [
    {
     "data": {
      "text/html": [
       "<div>\n",
       "<style scoped>\n",
       "    .dataframe tbody tr th:only-of-type {\n",
       "        vertical-align: middle;\n",
       "    }\n",
       "\n",
       "    .dataframe tbody tr th {\n",
       "        vertical-align: top;\n",
       "    }\n",
       "\n",
       "    .dataframe thead th {\n",
       "        text-align: right;\n",
       "    }\n",
       "</style>\n",
       "<table border=\"1\" class=\"dataframe\">\n",
       "  <thead>\n",
       "    <tr style=\"text-align: right;\">\n",
       "      <th></th>\n",
       "      <th>Equipo</th>\n",
       "      <th>Categoria</th>\n",
       "      <th>Presidente</th>\n",
       "      <th>Fundacion</th>\n",
       "      <th>Telefono</th>\n",
       "      <th>Fax</th>\n",
       "      <th>Sitio Web</th>\n",
       "      <th>Email</th>\n",
       "      <th>Campeonatos</th>\n",
       "      <th>Estadio</th>\n",
       "      <th>Capacidad</th>\n",
       "      <th>Direccion</th>\n",
       "    </tr>\n",
       "  </thead>\n",
       "  <tbody>\n",
       "    <tr>\n",
       "      <th>4</th>\n",
       "      <td>BARCELONA SPORTING CLUB</td>\n",
       "      <td>PRIMERA - A</td>\n",
       "      <td>SR. JOSE FRANCISCO CEVALLOS VILLAVICENCIO</td>\n",
       "      <td>01/05/1925</td>\n",
       "      <td>593-4-2202160/2202185</td>\n",
       "      <td>593-4-2202160/2202185</td>\n",
       "      <td>www.barcelonasc.com.ec</td>\n",
       "      <td>prensa@barcelonaec.com.ec</td>\n",
       "      <td>15</td>\n",
       "      <td>Estadio - MONUMENTAL BANCO PICHINCHA</td>\n",
       "      <td>57267 personas</td>\n",
       "      <td>CDLA.BELLAVISTA ESTADIO MONUMENTAL ISIDRO ROME...</td>\n",
       "    </tr>\n",
       "  </tbody>\n",
       "</table>\n",
       "</div>"
      ],
      "text/plain": [
       "                    Equipo    Categoria  \\\n",
       "4  BARCELONA SPORTING CLUB  PRIMERA - A   \n",
       "\n",
       "                                  Presidente    Fundacion  \\\n",
       "4  SR. JOSE FRANCISCO CEVALLOS VILLAVICENCIO   01/05/1925   \n",
       "\n",
       "                Telefono                    Fax               Sitio Web  \\\n",
       "4  593-4-2202160/2202185  593-4-2202160/2202185  www.barcelonasc.com.ec   \n",
       "\n",
       "                       Email  Campeonatos  \\\n",
       "4  prensa@barcelonaec.com.ec           15   \n",
       "\n",
       "                                Estadio       Capacidad  \\\n",
       "4  Estadio - MONUMENTAL BANCO PICHINCHA  57267 personas   \n",
       "\n",
       "                                           Direccion  \n",
       "4  CDLA.BELLAVISTA ESTADIO MONUMENTAL ISIDRO ROME...  "
      ]
     },
     "execution_count": 75,
     "metadata": {},
     "output_type": "execute_result"
    }
   ],
   "source": [
    "data[data['Equipo']==w.value]"
   ]
  },
  {
   "cell_type": "code",
   "execution_count": 77,
   "metadata": {},
   "outputs": [
    {
     "data": {
      "text/html": [
       "<div>\n",
       "<style scoped>\n",
       "    .dataframe tbody tr th:only-of-type {\n",
       "        vertical-align: middle;\n",
       "    }\n",
       "\n",
       "    .dataframe tbody tr th {\n",
       "        vertical-align: top;\n",
       "    }\n",
       "\n",
       "    .dataframe thead th {\n",
       "        text-align: right;\n",
       "    }\n",
       "</style>\n",
       "<table border=\"1\" class=\"dataframe\">\n",
       "  <thead>\n",
       "    <tr style=\"text-align: right;\">\n",
       "      <th></th>\n",
       "      <th>Equipo</th>\n",
       "      <th>Categoria</th>\n",
       "      <th>Presidente</th>\n",
       "      <th>Fundacion</th>\n",
       "      <th>Telefono</th>\n",
       "      <th>Fax</th>\n",
       "      <th>Sitio Web</th>\n",
       "      <th>Email</th>\n",
       "      <th>Campeonatos</th>\n",
       "      <th>Estadio</th>\n",
       "      <th>Capacidad</th>\n",
       "      <th>Direccion</th>\n",
       "    </tr>\n",
       "  </thead>\n",
       "  <tbody>\n",
       "    <tr>\n",
       "      <th>0</th>\n",
       "      <td>CLUB SPORT EMELEC</td>\n",
       "      <td>PRIMERA - A</td>\n",
       "      <td>SR. NASSIB JOSE NEME ANTON</td>\n",
       "      <td>28/04/1929</td>\n",
       "      <td>593-4-2416000/2410512</td>\n",
       "      <td>593-4-2416000/2410512</td>\n",
       "      <td>www.emelec.com.ec</td>\n",
       "      <td>info@emelec.com.ec</td>\n",
       "      <td>14</td>\n",
       "      <td>Estadio - BANCO DEL PACIFICO</td>\n",
       "      <td>21388 personas</td>\n",
       "      <td>GENERAL GOMEZ # 1312  Y  AVENIDA QUITO - ESTAD...</td>\n",
       "    </tr>\n",
       "    <tr>\n",
       "      <th>1</th>\n",
       "      <td>CLUB DEPORTIVO EL NACIONAL</td>\n",
       "      <td>PRIMERA - A</td>\n",
       "      <td>MIL. TITO SALOMON MANJARREZ LASCANO</td>\n",
       "      <td>01/06/1964</td>\n",
       "      <td>593-2-2456586/2443387</td>\n",
       "      <td>593-2-2456586/2443387</td>\n",
       "      <td>www.elnacional.ec</td>\n",
       "      <td>elnacional@uio.satnet.net</td>\n",
       "      <td>13</td>\n",
       "      <td>Estadio - OLIMPICO ATAHUALPA</td>\n",
       "      <td>35258 personas</td>\n",
       "      <td>YASUNI E ISLA SAN CRISTOBAL (CDLA. JIPIJAPA)</td>\n",
       "    </tr>\n",
       "    <tr>\n",
       "      <th>4</th>\n",
       "      <td>BARCELONA SPORTING CLUB</td>\n",
       "      <td>PRIMERA - A</td>\n",
       "      <td>SR. JOSE FRANCISCO CEVALLOS VILLAVICENCIO</td>\n",
       "      <td>01/05/1925</td>\n",
       "      <td>593-4-2202160/2202185</td>\n",
       "      <td>593-4-2202160/2202185</td>\n",
       "      <td>www.barcelonasc.com.ec</td>\n",
       "      <td>prensa@barcelonaec.com.ec</td>\n",
       "      <td>15</td>\n",
       "      <td>Estadio - MONUMENTAL BANCO PICHINCHA</td>\n",
       "      <td>57267 personas</td>\n",
       "      <td>CDLA.BELLAVISTA ESTADIO MONUMENTAL ISIDRO ROME...</td>\n",
       "    </tr>\n",
       "    <tr>\n",
       "      <th>7</th>\n",
       "      <td>LIGA DEPORTIVA UNIVERSITARIA DE QUITO</td>\n",
       "      <td>PRIMERA - A</td>\n",
       "      <td>ARQ. GUILLERMO ANTONIO ROMERO CARRERA</td>\n",
       "      <td>11/01/1930</td>\n",
       "      <td>593-2-2527206/2527613/2527310</td>\n",
       "      <td>593-2-2527206/2527310</td>\n",
       "      <td>www.ldu.com.ec</td>\n",
       "      <td>comisiondefutbol@ldu.com.ec</td>\n",
       "      <td>10</td>\n",
       "      <td>Estadio - RODRIGO PAZ DELGADO</td>\n",
       "      <td>41575 personas</td>\n",
       "      <td>ROBLES # 653 Y AMAZONAS, EDIF. PROINCO CALISTO...</td>\n",
       "    </tr>\n",
       "  </tbody>\n",
       "</table>\n",
       "</div>"
      ],
      "text/plain": [
       "                                  Equipo    Categoria  \\\n",
       "0                      CLUB SPORT EMELEC  PRIMERA - A   \n",
       "1             CLUB DEPORTIVO EL NACIONAL  PRIMERA - A   \n",
       "4                BARCELONA SPORTING CLUB  PRIMERA - A   \n",
       "7  LIGA DEPORTIVA UNIVERSITARIA DE QUITO  PRIMERA - A   \n",
       "\n",
       "                                  Presidente    Fundacion  \\\n",
       "0                 SR. NASSIB JOSE NEME ANTON   28/04/1929   \n",
       "1        MIL. TITO SALOMON MANJARREZ LASCANO   01/06/1964   \n",
       "4  SR. JOSE FRANCISCO CEVALLOS VILLAVICENCIO   01/05/1925   \n",
       "7      ARQ. GUILLERMO ANTONIO ROMERO CARRERA   11/01/1930   \n",
       "\n",
       "                        Telefono                    Fax  \\\n",
       "0          593-4-2416000/2410512  593-4-2416000/2410512   \n",
       "1          593-2-2456586/2443387  593-2-2456586/2443387   \n",
       "4          593-4-2202160/2202185  593-4-2202160/2202185   \n",
       "7  593-2-2527206/2527613/2527310  593-2-2527206/2527310   \n",
       "\n",
       "                Sitio Web                        Email  Campeonatos  \\\n",
       "0       www.emelec.com.ec           info@emelec.com.ec           14   \n",
       "1       www.elnacional.ec    elnacional@uio.satnet.net           13   \n",
       "4  www.barcelonasc.com.ec    prensa@barcelonaec.com.ec           15   \n",
       "7          www.ldu.com.ec  comisiondefutbol@ldu.com.ec           10   \n",
       "\n",
       "                                Estadio       Capacidad  \\\n",
       "0          Estadio - BANCO DEL PACIFICO  21388 personas   \n",
       "1          Estadio - OLIMPICO ATAHUALPA  35258 personas   \n",
       "4  Estadio - MONUMENTAL BANCO PICHINCHA  57267 personas   \n",
       "7         Estadio - RODRIGO PAZ DELGADO  41575 personas   \n",
       "\n",
       "                                           Direccion  \n",
       "0  GENERAL GOMEZ # 1312  Y  AVENIDA QUITO - ESTAD...  \n",
       "1       YASUNI E ISLA SAN CRISTOBAL (CDLA. JIPIJAPA)  \n",
       "4  CDLA.BELLAVISTA ESTADIO MONUMENTAL ISIDRO ROME...  \n",
       "7  ROBLES # 653 Y AMAZONAS, EDIF. PROINCO CALISTO...  "
      ]
     },
     "execution_count": 77,
     "metadata": {},
     "output_type": "execute_result"
    }
   ],
   "source": [
    "data[(data['Campeonatos'] > 5)]"
   ]
  },
  {
   "cell_type": "code",
   "execution_count": 82,
   "metadata": {},
   "outputs": [
    {
     "data": {
      "text/plain": [
       "Text(0.5,1,'Inscripciones por provincia')"
      ]
     },
     "execution_count": 82,
     "metadata": {},
     "output_type": "execute_result"
    },
    {
     "data": {
      "image/png": "[encoded data removed]",
      "text/plain": [
       "<Figure size 2880x1440 with 1 Axes>"
      ]
     },
     "metadata": {},
     "output_type": "display_data"
    }
   ],
   "source": [
    "plt.figure(figsize=(40,20))\n",
    "# plt.title(u\"Título de la gráfica\", fontsize = 30)\n",
    "plt.subplot2grid((2,3), (0,0))\n",
    "data.Categoria.value_counts().plot(kind='bar')\n",
    "plt.title('Inscripciones por provincia')"
   ]
  },
  {
   "cell_type": "code",
   "execution_count": null,
   "metadata": {},
   "outputs": [],
   "source": []
  }
 ],
 "metadata": {
  "kernelspec": {
   "display_name": "Python 3",
   "language": "python",
   "name": "python3"
  },
  "language_info": {
   "codemirror_mode": {
    "name": "ipython",
    "version": 3
   },
   "file_extension": ".py",
   "mimetype": "text/x-python",
   "name": "python",
   "nbconvert_exporter": "python",
   "pygments_lexer": "ipython3",
   "version": "3.5.2"
  }
 },
 "nbformat": 4,
 "nbformat_minor": 2
}
